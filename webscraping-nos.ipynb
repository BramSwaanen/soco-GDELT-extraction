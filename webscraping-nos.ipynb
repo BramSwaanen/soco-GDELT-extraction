{
 "cells": [
  {
   "cell_type": "markdown",
   "id": "9008b597-9b8e-454a-b6f4-462afff77ad6",
   "metadata": {},
   "source": [
    "# Pipeline using application/ld+json works for\n",
    "- nos.nl (getting search results is possible and loopable)\n",
    "- cnn (getting search results is possible and loopable)\n",
    "- fox news (verified freely accessible)\n",
    "- cbs news (but getting search results is hard)\n",
    "- nbc news\n",
    "\n",
    "# Pipeline using application/ld+json does not work for\n",
    "- abc news, which should be accessed via the \"body\" element of another script (which unfortunately has no name)\n",
    "- "
   ]
  },
  {
   "cell_type": "code",
   "execution_count": 1,
   "id": "9a7d2a3c-7cf9-406b-bc01-6019ba5daff6",
   "metadata": {},
   "outputs": [],
   "source": [
    "from selenium import webdriver\n",
    "from selenium.webdriver.common.by import By\n",
    "from selenium.webdriver.support.ui import WebDriverWait\n",
    "from selenium.webdriver.support import expected_conditions as EC\n",
    "import requests\n",
    "import time"
   ]
  },
  {
   "cell_type": "code",
   "execution_count": 2,
   "id": "713755fe-7204-43ed-b38e-8dee005d0b68",
   "metadata": {},
   "outputs": [],
   "source": [
    "#Load page\n",
    "driver = webdriver.Chrome()\n",
    "driver.get(\"https://www.foxnews.com/search-results/search?q=AI\")\n",
    "time.sleep(5)"
   ]
  },
  {
   "cell_type": "code",
   "execution_count": 3,
   "id": "04b73d83-ebbd-492b-94f5-e642f92041c2",
   "metadata": {},
   "outputs": [],
   "source": [
    "#Close the banner in front of load-more\n",
    "element = driver.find_element(By.CSS_SELECTOR, \".close\")\n",
    "element.click()"
   ]
  },
  {
   "cell_type": "code",
   "execution_count": 7,
   "id": "1db148eb-4eb0-4700-af5d-c8ab9e885275",
   "metadata": {},
   "outputs": [],
   "source": [
    "#Code to click the load-more button on Fox News search results page\n",
    "element = driver.find_element(By.CSS_SELECTOR, \".button.load-more\")\n",
    "element.click()"
   ]
  },
  {
   "cell_type": "code",
   "execution_count": null,
   "id": "e96f5db5-619d-4971-8b6f-2510f2399981",
   "metadata": {},
   "outputs": [],
   "source": [
    "# Gets all links on a page using selenium\n",
    "elements = driver.find_elements(By.TAG_NAME, \"a\")\n",
    "for element in elements:\n",
    "    print(element.get_dom_attribute(\"href\"))"
   ]
  },
  {
   "cell_type": "code",
   "execution_count": null,
   "id": "63f2e58a-3e80-47d7-9b6f-334bda785b65",
   "metadata": {},
   "outputs": [],
   "source": [
    "from bs4 import BeautifulSoup\n",
    "from html import parser\n",
    "import re"
   ]
  },
  {
   "cell_type": "code",
   "execution_count": null,
   "id": "8bdd4f7c-0297-4b19-ab7e-6ffa1cafa1c5",
   "metadata": {},
   "outputs": [],
   "source": [
    "#Gets all search hit pages from searching for AI on NOS.nl\n",
    "d = {}\n",
    "for i in range(30)[1:]:\n",
    "    with open(f\"pages/nos-ai-{i}.html\") as fp:\n",
    "        soup = BeautifulSoup(fp, 'html.parser')\n",
    "        d[i] = soup"
   ]
  },
  {
   "cell_type": "code",
   "execution_count": null,
   "id": "88c24892-f47b-4b26-b5c9-ff71c4eef639",
   "metadata": {},
   "outputs": [],
   "source": [
    "#Gets all relevant_links from the search results for AI on NOS.nl\n",
    "relevant_links = []\n",
    "\n",
    "for i in d.keys():\n",
    "    record = False\n",
    "    zoeken_counter = 0\n",
    "    for link in d[i].find_all('a'):\n",
    "        if link.get('href')[:8] == \"/zoeken?\":\n",
    "            record = False\n",
    "        if record and re.search(r\"artikel\",link.get(\"href\")):\n",
    "            relevant_links.append(\"https://www.nos.nl\" + link.get('href'))\n",
    "        if link.get('href') == \"/zoeken\":\n",
    "            zoeken_counter+=1\n",
    "        if zoeken_counter == 2:\n",
    "            record = True\n",
    "            zoeken_counter = 0"
   ]
  },
  {
   "cell_type": "code",
   "execution_count": null,
   "id": "6ea4a853-fde0-4232-9a4a-ad0364e3b118",
   "metadata": {},
   "outputs": [],
   "source": [
    "help(BeautifulSoup)"
   ]
  },
  {
   "cell_type": "code",
   "execution_count": null,
   "id": "9d3039e2-8551-476b-b7c8-94e436496183",
   "metadata": {},
   "outputs": [],
   "source": [
    "#Gets the soup for all files in relevant_links[:10]\n",
    "import os\n",
    "soups = []\n",
    "for link in relevant_links[:10]:\n",
    "    os.system(f\"wget -O link.html {link}\")\n",
    "    with open(\"link.html\",\"r\") as file:\n",
    "        soups.append(BeautifulSoup(file, 'html.parser'))"
   ]
  },
  {
   "cell_type": "code",
   "execution_count": null,
   "id": "e395dd90-a5f8-4b01-b892-11ebfc0e3e37",
   "metadata": {},
   "outputs": [],
   "source": [
    "#Get the json-file containing file content and metadata for all soup in soups\n",
    "#and turn into dictionary (this has been tested for NOS.nl and for one article on CNN.com; 'application/ld+json' seems to be a standard\n",
    "#type for scripts describing the metadata and content of news site articles)\n",
    "import json\n",
    "contents = []\n",
    "for soup in soups:\n",
    "    for script in soup.find_all(\"script\"):\n",
    "        try:\n",
    "            if script['type'] == 'application/ld+json':\n",
    "                contents.append(json.loads(script.contents[0]))\n",
    "        except:\n",
    "            pass\n",
    "date = contents[9]['datePublished']\n",
    "headline = contents[9]['headline']\n",
    "mainText = contents[9]['articleBody']\n",
    "date, headline, mainText"
   ]
  },
  {
   "cell_type": "code",
   "execution_count": null,
   "id": "1367dad3-81d0-4924-b8a2-46874c10644f",
   "metadata": {},
   "outputs": [],
   "source": []
  }
 ],
 "metadata": {
  "kernelspec": {
   "display_name": "Python 3 (ipykernel)",
   "language": "python",
   "name": "python3"
  },
  "language_info": {
   "codemirror_mode": {
    "name": "ipython",
    "version": 3
   },
   "file_extension": ".py",
   "mimetype": "text/x-python",
   "name": "python",
   "nbconvert_exporter": "python",
   "pygments_lexer": "ipython3",
   "version": "3.11.7"
  }
 },
 "nbformat": 4,
 "nbformat_minor": 5
}
